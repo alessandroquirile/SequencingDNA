{
 "cells": [
  {
   "cell_type": "markdown",
   "id": "94f266c3-0ee5-444a-9f43-589edd51aa37",
   "metadata": {},
   "source": [
    "# DNA Sequencing with Machine Learning\n",
    "\n",
    "## Introduction\n",
    "\n",
    "DNA is a double-helix polymer made of two polynucleotide chains that carry genetic instructions for the development and functioning of organisms and viruses. Each chain consists of nucleotides, which are composed of a nitrogenous base (cytosine C, guanine G, adenine A, or thymine T), a sugar (deoxyribose), and a phosphate group. The chains form a sugar-phosphate backbone, and their bases pair together (A with T, C with G) through hydrogen bonds, following specific rules.\n",
    "\n",
    "Due to the vast complexity of DNA sequences, interpreting them requires advanced tools. Machine learning (ML) plays a key role in analyzing large DNA datasets, recognizing patterns, and making predictions.\n",
    "\n",
    "In this project, we will use ML techniques to analyze DNA, identify patterns, and gain insights that could help detect genetic diseases or understand biological processes.\n",
    "\n",
    "## How does Machine Learning work in Biology?\n",
    "\n",
    "Imagine having a large amount of DNA sequences, each of which could tell you something, like whether a person has a certain disease or not. Analyzing these sequences by hand would be like looking for a needle in a haystack!\n",
    "\n",
    "Machine learning, especially supervised learning, can help solve this problem. Supervised learning is a type of ML where a model is trained using labeled data. Each example in the dataset has both:\n",
    "\n",
    "1. Input data: the DNA sequence, often represented in a format like strings or numerical patterns.\n",
    "\n",
    "2. Label: the category or class it belongs to, such as a specific gene family or whether it’s linked to a particular disease.\n",
    "\n",
    "The process involves:\n",
    "1. Training the artificial intelligence model: the model learns the relationship between the input data (DNA sequences) and the labels (categories). For instance, it learns to associate patterns in the sequence with specific gene families. This kind of artificial intelligence model is called classifier.\n",
    "\n",
    "2. Making predictions\n",
    "\n",
    "## Project Goals\n",
    "\n",
    "In this project, we want to:\n",
    "- Analyze DNA data to discover interesting patterns.\n",
    "- Use machine learning to classify DNA sequences."
   ]
  },
  {
   "cell_type": "markdown",
   "id": "7fc425b73060b0cc",
   "metadata": {},
   "source": [
    "## Analyzing the data set\n",
    "\n",
    "To begin analyzing human DNA, we need to load the human dna dataset. This dataset contains sequences of DNA alongside their corresponding gene family classifications. Understanding the distribution of these classes is an important first step in our analysis.\n",
    "\n",
    "![title](img/classes.png)\n"
   ]
  },
  {
   "cell_type": "code",
   "execution_count": 1,
   "id": "ecd810a39a23d0a9",
   "metadata": {
    "ExecuteTime": {
     "end_time": "2025-01-21T10:11:58.914810Z",
     "start_time": "2025-01-21T10:11:58.613223Z"
    }
   },
   "outputs": [
    {
     "data": {
      "text/plain": [
       "Text(0.5, 1.0, 'Class distribution of Human DNA')"
      ]
     },
     "execution_count": 1,
     "metadata": {},
     "output_type": "execute_result"
    },
    {
     "data": {
      "image/png": "[encoded data removed]",
      "text/plain": [
       "<Figure size 640x480 with 1 Axes>"
      ]
     },
     "metadata": {},
     "output_type": "display_data"
    }
   ],
   "source": [
    "import pandas as pd\n",
    "import matplotlib.pyplot as plt\n",
    "\n",
    "human_dna = pd.read_table('../data/raw/human.txt')\n",
    "human_dna['class'].value_counts().sort_index().plot.bar()\n",
    "plt.title(\"Class distribution of Human DNA\")"
   ]
  },
  {
   "cell_type": "markdown",
   "id": "fbc28a1ebb7d7e84",
   "metadata": {},
   "source": [
    "## Extracting Features from Base Pair Sequences  \n",
    "\n",
    "Machine learning models work with numbers, but DNA sequences are made up of letters (A, T, C, G). To apply machine learning, we need to convert these sequences into a numerical format. One effective method for this is **$k$-mer counting**.\n",
    "\n",
    "### What is $k$-mer Counting?  \n",
    "\n",
    "DNA and protein sequences are often referred to as the \"language of life.\" In this analogy:  \n",
    "- The genome is like a book.  \n",
    "- Genes and gene families are like sentences and chapters.  \n",
    "- $k$-mers (short subsequences) are like words.  \n",
    "- Nucleotide bases (A, T, C, G) and amino acids are the alphabet.  \n",
    "\n",
    "Because of this similarity, methods from **Natural Language Processing (NLP)** — used to analyze human languages — can also be applied to analyze DNA and protein sequences.\n",
    "\n",
    "### How $k$-mer Counting Works  \n",
    "\n",
    "The process is simple and intuitive:  \n",
    "1. Take a long DNA sequence and break it into overlapping “words” of length $k$.  \n",
    "2. Each “word” is a subsequence of $k$ nucleotide bases.  \n",
    "\n",
    "**Example:**  \n",
    "For a sequence `ATGCATGCA` and $k=6$ (hexamers), the sequence is broken into:  \n",
    "1. `ATGCAT`  \n",
    "2. `TGCATG`  \n",
    "3. `GCATGC`  \n",
    "4. `CATGCA`  \n",
    "\n",
    "This process generates overlapping subsequences, which are called **$k$-mers**.  \n",
    "\n",
    "### Why Use $k$-mers?  \n",
    "\n",
    "In genomics, this process helps break down complex sequences into manageable pieces. By counting the occurrence of each $k$-mer in the DNA, we create a numerical representation of the sequence. This representation can then be used as input for machine learning models to identify patterns, classify sequences, or predict biological functions.  "
   ]
  },
  {
   "cell_type": "code",
   "execution_count": 3,
   "id": "1a566b75-7783-4952-bafd-ac4ad6bf2aed",
   "metadata": {},
   "outputs": [
    {
     "data": {
      "text/html": [
       "<div>\n",
       "<style scoped>\n",
       "    .dataframe tbody tr th:only-of-type {\n",
       "        vertical-align: middle;\n",
       "    }\n",
       "\n",
       "    .dataframe tbody tr th {\n",
       "        vertical-align: top;\n",
       "    }\n",
       "\n",
       "    .dataframe thead th {\n",
       "        text-align: right;\n",
       "    }\n",
       "</style>\n",
       "<table border=\"1\" class=\"dataframe\">\n",
       "  <thead>\n",
       "    <tr style=\"text-align: right;\">\n",
       "      <th></th>\n",
       "      <th>sequence</th>\n",
       "      <th>class</th>\n",
       "    </tr>\n",
       "  </thead>\n",
       "  <tbody>\n",
       "    <tr>\n",
       "      <th>0</th>\n",
       "      <td>ATGCCCCAACTAAATACTACCGTATGGCCCACCATAATTACCCCCA...</td>\n",
       "      <td>4</td>\n",
       "    </tr>\n",
       "    <tr>\n",
       "      <th>1</th>\n",
       "      <td>ATGAACGAAAATCTGTTCGCTTCATTCATTGCCCCCACAATCCTAG...</td>\n",
       "      <td>4</td>\n",
       "    </tr>\n",
       "    <tr>\n",
       "      <th>2</th>\n",
       "      <td>ATGTGTGGCATTTGGGCGCTGTTTGGCAGTGATGATTGCCTTTCTG...</td>\n",
       "      <td>3</td>\n",
       "    </tr>\n",
       "    <tr>\n",
       "      <th>3</th>\n",
       "      <td>ATGTGTGGCATTTGGGCGCTGTTTGGCAGTGATGATTGCCTTTCTG...</td>\n",
       "      <td>3</td>\n",
       "    </tr>\n",
       "    <tr>\n",
       "      <th>4</th>\n",
       "      <td>ATGCAACAGCATTTTGAATTTGAATACCAGACCAAAGTGGATGGTG...</td>\n",
       "      <td>3</td>\n",
       "    </tr>\n",
       "    <tr>\n",
       "      <th>...</th>\n",
       "      <td>...</td>\n",
       "      <td>...</td>\n",
       "    </tr>\n",
       "    <tr>\n",
       "      <th>4375</th>\n",
       "      <td>ATGGAAGATTTGGAGGAAACATTATTTGAAGAATTTGAAAACTATT...</td>\n",
       "      <td>0</td>\n",
       "    </tr>\n",
       "    <tr>\n",
       "      <th>4376</th>\n",
       "      <td>ATGCAGTCCTTTCGGGAGCAAAGCAGTTACCACGGAAACCAGCAAA...</td>\n",
       "      <td>6</td>\n",
       "    </tr>\n",
       "    <tr>\n",
       "      <th>4377</th>\n",
       "      <td>ATGCAGTCCTTTCGGGAGCAAAGCAGTTACCACGGAAACCAGCAAA...</td>\n",
       "      <td>6</td>\n",
       "    </tr>\n",
       "    <tr>\n",
       "      <th>4378</th>\n",
       "      <td>ATGGGGCACCTGGTTTGCTGTCTGTGTGGCAAGTGGGCCAGTTACC...</td>\n",
       "      <td>6</td>\n",
       "    </tr>\n",
       "    <tr>\n",
       "      <th>4379</th>\n",
       "      <td>ATGCAGTCCTTTCGGGAGCAAAGCAGTTACCACGGAAACCAGCAAA...</td>\n",
       "      <td>6</td>\n",
       "    </tr>\n",
       "  </tbody>\n",
       "</table>\n",
       "<p>4380 rows × 2 columns</p>\n",
       "</div>"
      ],
      "text/plain": [
       "                                               sequence  class\n",
       "0     ATGCCCCAACTAAATACTACCGTATGGCCCACCATAATTACCCCCA...      4\n",
       "1     ATGAACGAAAATCTGTTCGCTTCATTCATTGCCCCCACAATCCTAG...      4\n",
       "2     ATGTGTGGCATTTGGGCGCTGTTTGGCAGTGATGATTGCCTTTCTG...      3\n",
       "3     ATGTGTGGCATTTGGGCGCTGTTTGGCAGTGATGATTGCCTTTCTG...      3\n",
       "4     ATGCAACAGCATTTTGAATTTGAATACCAGACCAAAGTGGATGGTG...      3\n",
       "...                                                 ...    ...\n",
       "4375  ATGGAAGATTTGGAGGAAACATTATTTGAAGAATTTGAAAACTATT...      0\n",
       "4376  ATGCAGTCCTTTCGGGAGCAAAGCAGTTACCACGGAAACCAGCAAA...      6\n",
       "4377  ATGCAGTCCTTTCGGGAGCAAAGCAGTTACCACGGAAACCAGCAAA...      6\n",
       "4378  ATGGGGCACCTGGTTTGCTGTCTGTGTGGCAAGTGGGCCAGTTACC...      6\n",
       "4379  ATGCAGTCCTTTCGGGAGCAAAGCAGTTACCACGGAAACCAGCAAA...      6\n",
       "\n",
       "[4380 rows x 2 columns]"
      ]
     },
     "execution_count": 3,
     "metadata": {},
     "output_type": "execute_result"
    }
   ],
   "source": [
    "import pandas as pd\n",
    "\n",
    "human_dna = pd.read_table('../data/raw/human.txt')\n",
    "human_dna"
   ]
  },
  {
   "cell_type": "code",
   "execution_count": 4,
   "id": "196ddf01-53ed-4c89-98ff-76e28cb315fa",
   "metadata": {},
   "outputs": [
    {
     "data": {
      "text/html": [
       "<div>\n",
       "<style scoped>\n",
       "    .dataframe tbody tr th:only-of-type {\n",
       "        vertical-align: middle;\n",
       "    }\n",
       "\n",
       "    .dataframe tbody tr th {\n",
       "        vertical-align: top;\n",
       "    }\n",
       "\n",
       "    .dataframe thead th {\n",
       "        text-align: right;\n",
       "    }\n",
       "</style>\n",
       "<table border=\"1\" class=\"dataframe\">\n",
       "  <thead>\n",
       "    <tr style=\"text-align: right;\">\n",
       "      <th></th>\n",
       "      <th>k-mers</th>\n",
       "      <th>class</th>\n",
       "    </tr>\n",
       "  </thead>\n",
       "  <tbody>\n",
       "    <tr>\n",
       "      <th>0</th>\n",
       "      <td>ATGCCC TGCCCC GCCCCA CCCCAA CCCAAC CCAACT CAAC...</td>\n",
       "      <td>4</td>\n",
       "    </tr>\n",
       "    <tr>\n",
       "      <th>1</th>\n",
       "      <td>ATGAAC TGAACG GAACGA AACGAA ACGAAA CGAAAA GAAA...</td>\n",
       "      <td>4</td>\n",
       "    </tr>\n",
       "    <tr>\n",
       "      <th>2</th>\n",
       "      <td>ATGTGT TGTGTG GTGTGG TGTGGC GTGGCA TGGCAT GGCA...</td>\n",
       "      <td>3</td>\n",
       "    </tr>\n",
       "    <tr>\n",
       "      <th>3</th>\n",
       "      <td>ATGTGT TGTGTG GTGTGG TGTGGC GTGGCA TGGCAT GGCA...</td>\n",
       "      <td>3</td>\n",
       "    </tr>\n",
       "    <tr>\n",
       "      <th>4</th>\n",
       "      <td>ATGCAA TGCAAC GCAACA CAACAG AACAGC ACAGCA CAGC...</td>\n",
       "      <td>3</td>\n",
       "    </tr>\n",
       "    <tr>\n",
       "      <th>...</th>\n",
       "      <td>...</td>\n",
       "      <td>...</td>\n",
       "    </tr>\n",
       "    <tr>\n",
       "      <th>4375</th>\n",
       "      <td>ATGGAA TGGAAG GGAAGA GAAGAT AAGATT AGATTT GATT...</td>\n",
       "      <td>0</td>\n",
       "    </tr>\n",
       "    <tr>\n",
       "      <th>4376</th>\n",
       "      <td>ATGCAG TGCAGT GCAGTC CAGTCC AGTCCT GTCCTT TCCT...</td>\n",
       "      <td>6</td>\n",
       "    </tr>\n",
       "    <tr>\n",
       "      <th>4377</th>\n",
       "      <td>ATGCAG TGCAGT GCAGTC CAGTCC AGTCCT GTCCTT TCCT...</td>\n",
       "      <td>6</td>\n",
       "    </tr>\n",
       "    <tr>\n",
       "      <th>4378</th>\n",
       "      <td>ATGGGG TGGGGC GGGGCA GGGCAC GGCACC GCACCT CACC...</td>\n",
       "      <td>6</td>\n",
       "    </tr>\n",
       "    <tr>\n",
       "      <th>4379</th>\n",
       "      <td>ATGCAG TGCAGT GCAGTC CAGTCC AGTCCT GTCCTT TCCT...</td>\n",
       "      <td>6</td>\n",
       "    </tr>\n",
       "  </tbody>\n",
       "</table>\n",
       "<p>4380 rows × 2 columns</p>\n",
       "</div>"
      ],
      "text/plain": [
       "                                                 k-mers  class\n",
       "0     ATGCCC TGCCCC GCCCCA CCCCAA CCCAAC CCAACT CAAC...      4\n",
       "1     ATGAAC TGAACG GAACGA AACGAA ACGAAA CGAAAA GAAA...      4\n",
       "2     ATGTGT TGTGTG GTGTGG TGTGGC GTGGCA TGGCAT GGCA...      3\n",
       "3     ATGTGT TGTGTG GTGTGG TGTGGC GTGGCA TGGCAT GGCA...      3\n",
       "4     ATGCAA TGCAAC GCAACA CAACAG AACAGC ACAGCA CAGC...      3\n",
       "...                                                 ...    ...\n",
       "4375  ATGGAA TGGAAG GGAAGA GAAGAT AAGATT AGATTT GATT...      0\n",
       "4376  ATGCAG TGCAGT GCAGTC CAGTCC AGTCCT GTCCTT TCCT...      6\n",
       "4377  ATGCAG TGCAGT GCAGTC CAGTCC AGTCCT GTCCTT TCCT...      6\n",
       "4378  ATGGGG TGGGGC GGGGCA GGGCAC GGCACC GCACCT CACC...      6\n",
       "4379  ATGCAG TGCAGT GCAGTC CAGTCC AGTCCT GTCCTT TCCT...      6\n",
       "\n",
       "[4380 rows x 2 columns]"
      ]
     },
     "execution_count": 4,
     "metadata": {},
     "output_type": "execute_result"
    }
   ],
   "source": [
    "import pandas as pd\n",
    "\n",
    "def get_kmers(sequence, k):\n",
    "    if len(sequence) < k:\n",
    "        pass\n",
    "        # raise ValueError(\"La lunghezza della sequenza deve essere maggiore o uguale a k\")    \n",
    "    kmers = []\n",
    "    for i in range(len(sequence) - k + 1):\n",
    "        kmers.append(sequence[i:i + k])\n",
    "    return kmers\n",
    "\n",
    "def join_kmers(kmers):\n",
    "    return ' '.join(kmers)\n",
    "\n",
    "# Carica il DataFrame\n",
    "human_dna = pd.read_table('../data/raw/human.txt')\n",
    "\n",
    "# Estrai i k-mers per ogni sequenza\n",
    "k = 6\n",
    "human_dna['k-mers'] = human_dna.apply(lambda x: get_kmers(x['sequence'], k), axis=1)\n",
    "\n",
    "# Unisci i k-mers in una singola stringa per ogni riga\n",
    "human_dna['k-mers'] = human_dna['k-mers'].apply(join_kmers)\n",
    "\n",
    "# Riordina le colonne per avere 'joined-kmers' come prima e 'class' come seconda\n",
    "human_dna = human_dna[['k-mers', 'class']]\n",
    "\n",
    "# Stampa il DataFrame risultante\n",
    "human_dna"
   ]
  },
  {
   "cell_type": "markdown",
   "id": "46c4199c-3916-44a8-abd4-63fb9ca24b1a",
   "metadata": {},
   "source": [
    "### Using Bag of Words (BoW) for DNA Sequencing\n",
    "\n",
    "The **Bag of Words (BoW)** model is a simple and effective technique used in natural language processing (NLP) to represent text data. In the context of **DNA sequencing**, BoW can be adapted to represent DNA sequences as a collection of fixed-length subsequences (also known as **k-mers**) rather than words.\n",
    "\n",
    "#### How BoW Works for DNA Sequencing\n",
    "\n",
    "1. **DNA Sequences as Text**: DNA sequences consist of four nucleotides represented by the letters A, T, C, and G. These letters can be treated as the \"alphabet\" of the DNA sequences.\n",
    "\n",
    "2. **K-mers**: To apply BoW, we break down the DNA sequences into overlapping subsequences of length **k** (called **k-mers**).\n",
    "\n",
    "3. **Vectorization**: In BoW, each sequence is represented by a vector where each dimension corresponds to the occurrence of a unique k-mer in the sequence. A **CountVectorizer** can be used to count the occurrences of each unique k-mer across all sequences in a dataset.\n",
    "\n",
    "4. **Matrix Representation**: The result is a matrix where each row represents a DNA sequence and each column represents a k-mer. The value in each cell indicates how many times the corresponding k-mer appears in the sequence."
   ]
  },
  {
   "cell_type": "code",
   "execution_count": 1,
   "id": "b46abdda-481e-429e-ace0-64aefb142239",
   "metadata": {},
   "outputs": [
    {
     "name": "stdout",
     "output_type": "stream",
     "text": [
      " bella  biologia  ciao  come  giornata  imparando  oggi  stai  sto  una\n",
      "     0         0     1     1         0          0     0     1    0    0\n",
      "     1         0     0     0         1          0     1     0    0    1\n",
      "     0         1     0     0         0          1     0     0    1    0\n"
     ]
    }
   ],
   "source": [
    "from sklearn.feature_extraction.text import CountVectorizer\n",
    "import pandas as pd\n",
    "\n",
    "frasi = ['Ciao come stai', 'Oggi è una bella giornata', 'Sto imparando biologia']\n",
    "\n",
    "vectorizer = CountVectorizer(ngram_range=(1, 1))  # Per analizzare singole parole (unigrammi)\n",
    "X = vectorizer.fit_transform(frasi)\n",
    "feature_names = vectorizer.get_feature_names_out()\n",
    "df = pd.DataFrame(X.toarray(), columns=feature_names)\n",
    "print(df.to_string(index=False))"
   ]
  },
  {
   "cell_type": "code",
   "execution_count": null,
   "id": "331b1164-4219-4e19-b779-fe45b3f9d269",
   "metadata": {},
   "outputs": [],
   "source": [
    "from sklearn.feature_extraction.text import CountVectorizer\n",
    "\n",
    "k_mers = human_dna['k-mers']\n",
    "countVectorizer = CountVectorizer(ngram_range=(4,4))\n",
    "x_train = countVectorizer.fit_transform(k_mers)\n",
    "y_train = human_dna.iloc[:, 1].values\n",
    "\n",
    "feature_names = vectorizer.get_feature_names_out()\n",
    "df = pd.DataFrame(x_train.toarray())\n",
    "print(df.to_string(index=False))"
   ]
  },
  {
   "cell_type": "code",
   "execution_count": 6,
   "id": "7c10143d-e2d7-41e6-9a87-ffc222825e14",
   "metadata": {},
   "outputs": [],
   "source": [
    "from sklearn.model_selection import train_test_split\n",
    "from sklearn.naive_bayes import MultinomialNB\n",
    "\n",
    "x_train, x_test, y_train, y_test = train_test_split(x_train, y_train, test_size = 0.2, random_state=42)\n",
    "\n",
    "classifier = MultinomialNB(alpha=0.1)\n",
    "classifier.fit(x_train, y_train)\n",
    "\n",
    "y_pred = classifier.predict(x_test)"
   ]
  },
  {
   "cell_type": "code",
   "execution_count": 7,
   "id": "7b739661-58b8-4fe0-9c9d-bbca3e71346b",
   "metadata": {},
   "outputs": [
    {
     "data": {
      "image/png": "[encoded data removed]",
      "text/plain": [
       "<Figure size 800x600 with 2 Axes>"
      ]
     },
     "metadata": {},
     "output_type": "display_data"
    }
   ],
   "source": [
    "from sklearn.metrics import confusion_matrix\n",
    "import seaborn as sns\n",
    "import matplotlib.pyplot as plt\n",
    "\n",
    "# Calcolare la matrice di confusione\n",
    "cm = confusion_matrix(y_test, y_pred)\n",
    "\n",
    "# Creare una heatmap per la matrice di confusione\n",
    "plt.figure(figsize=(8, 6))\n",
    "sns.heatmap(cm, annot=True, fmt='d', cmap='Blues', xticklabels=True, yticklabels=True)\n",
    "\n",
    "# Aggiungere etichette\n",
    "plt.xlabel('Predicted labels')\n",
    "plt.ylabel('True labels')\n",
    "plt.title('Confusion Matrix')\n",
    "\n",
    "# Mostrare la heatmap\n",
    "plt.show()"
   ]
  },
  {
   "cell_type": "code",
   "execution_count": 9,
   "id": "4f80a62f-2206-4e92-9cd7-bf0eb81cde32",
   "metadata": {},
   "outputs": [
    {
     "name": "stdout",
     "output_type": "stream",
     "text": [
      "Precision: 0.984\n",
      "Recall: 0.984\n",
      "Accuracy: 0.984\n",
      "F1-score: 0.984\n"
     ]
    },
    {
     "data": {
      "image/png": "[encoded data removed]",
      "text/plain": [
       "<Figure size 800x600 with 1 Axes>"
      ]
     },
     "metadata": {},
     "output_type": "display_data"
    }
   ],
   "source": [
    "from sklearn.metrics import precision_score, recall_score, accuracy_score, f1_score\n",
    "\n",
    "precision = precision_score(y_test, y_pred, average='weighted')\n",
    "recall = recall_score(y_test, y_pred, average='weighted') \n",
    "accuracy = accuracy_score(y_test, y_pred)\n",
    "f1 = f1_score(y_test, y_pred, average='weighted')\n",
    "\n",
    "# Stampare i risultati\n",
    "print(f\"Precision: {precision:.3f}\")\n",
    "print(f\"Recall: {recall:.3f}\")\n",
    "print(f\"Accuracy: {accuracy:.3f}\")\n",
    "print(f\"F1-score: {f1:.3f}\")\n",
    "\n",
    "metrics = {'Precision': precision, 'Recall': recall, 'Accuracy': accuracy, 'F1-score': f1}\n",
    "\n",
    "# Creare un grafico a barre\n",
    "plt.figure(figsize=(8, 6))\n",
    "sns.barplot(x=list(metrics.keys()), y=list(metrics.values()))\n",
    "\n",
    "# Aggiungere etichette e titolo\n",
    "plt.xlabel('Metriche')\n",
    "plt.ylabel('Valore')\n",
    "plt.title('Performance del Modello')\n",
    "\n",
    "# Tracciare una linea orizzontale tratteggiata al valore 1.0\n",
    "plt.axhline(y=1.0, color='r', linestyle='--')\n",
    "\n",
    "# Mostrare il grafico\n",
    "plt.show()"
   ]
  }
 ],
 "metadata": {
  "kernelspec": {
   "display_name": "Python 3 (ipykernel)",
   "language": "python",
   "name": "python3"
  },
  "language_info": {
   "codemirror_mode": {
    "name": "ipython",
    "version": 3
   },
   "file_extension": ".py",
   "mimetype": "text/x-python",
   "name": "python",
   "nbconvert_exporter": "python",
   "pygments_lexer": "ipython3",
   "version": "3.11.0"
  }
 },
 "nbformat": 4,
 "nbformat_minor": 5
}
